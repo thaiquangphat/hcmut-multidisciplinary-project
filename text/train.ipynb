{
 "cells": [
  {
   "cell_type": "markdown",
   "metadata": {},
   "source": [
    "# Import Libraries"
   ]
  },
  {
   "cell_type": "code",
   "execution_count": 3,
   "metadata": {},
   "outputs": [],
   "source": [
    "import torch\n",
    "import torch.nn as nn\n",
    "import numpy as np\n",
    "from sklearn.feature_extraction.text import TfidfVectorizer\n",
    "from sklearn.model_selection import train_test_split\n",
    "from torch.utils.data import Dataset, DataLoader\n",
    "import json\n",
    "import pickle"
   ]
  },
  {
   "cell_type": "markdown",
   "metadata": {},
   "source": [
    "# Loading Dataset"
   ]
  },
  {
   "cell_type": "code",
   "execution_count": 4,
   "metadata": {},
   "outputs": [],
   "source": [
    "with open('dataset/text_classification_dataset.json', 'r', encoding='utf-8') as file:\n",
    "    train_data = json.load(file)\n",
    "\n",
    "texts = [d['text'] for d in train_data]\n",
    "labels = [d['label'] for d in train_data]"
   ]
  },
  {
   "cell_type": "markdown",
   "metadata": {},
   "source": [
    "Spliting dataset to train and test."
   ]
  },
  {
   "cell_type": "code",
   "execution_count": 5,
   "metadata": {},
   "outputs": [],
   "source": [
    "# Convert labels to numerical values\n",
    "label_map = {\"lights_on\": 0, \"lights_off\": 1, \"fan_on\": 2, \"fan_off\": 3}\n",
    "y = [label_map[label] for label in labels]\n",
    "\n",
    "# Convert text to TF-IDF features\n",
    "vectorizer = TfidfVectorizer(max_features=50)\n",
    "X = vectorizer.fit_transform(texts).toarray()\n",
    "\n",
    "# Split dataset\n",
    "X_train, X_test, y_train, y_test = train_test_split(X, y, test_size=0.2, random_state=42)"
   ]
  },
  {
   "cell_type": "markdown",
   "metadata": {},
   "source": [
    "## Dataset Module"
   ]
  },
  {
   "cell_type": "code",
   "execution_count": 6,
   "metadata": {},
   "outputs": [],
   "source": [
    "# Custom Dataset class\n",
    "class TextDataset(Dataset):\n",
    "    def __init__(self, X, y):\n",
    "        self.X = torch.FloatTensor(X)\n",
    "        self.y = torch.LongTensor(y)\n",
    "    \n",
    "    def __len__(self):\n",
    "        return len(self.X)\n",
    "    \n",
    "    def __getitem__(self, idx):\n",
    "        return self.X[idx], self.y[idx]"
   ]
  },
  {
   "cell_type": "markdown",
   "metadata": {},
   "source": [
    "# Model"
   ]
  },
  {
   "cell_type": "code",
   "execution_count": 7,
   "metadata": {},
   "outputs": [],
   "source": [
    "# Neural Network Model\n",
    "class TextClassifier(nn.Module):\n",
    "    def __init__(self, input_size, hidden_size, num_classes):\n",
    "        super(TextClassifier, self).__init__()\n",
    "        self.layer1 = nn.Linear(input_size, hidden_size)\n",
    "        self.relu = nn.ReLU()\n",
    "        self.layer2 = nn.Linear(hidden_size, num_classes)\n",
    "    \n",
    "    def forward(self, x):\n",
    "        x = self.layer1(x)\n",
    "        x = self.relu(x)\n",
    "        x = self.layer2(x)\n",
    "        return x"
   ]
  },
  {
   "cell_type": "markdown",
   "metadata": {},
   "source": [
    "# Training"
   ]
  },
  {
   "cell_type": "markdown",
   "metadata": {},
   "source": [
    "## Hyperparameters"
   ]
  },
  {
   "cell_type": "code",
   "execution_count": 8,
   "metadata": {},
   "outputs": [],
   "source": [
    "# Hyperparameters\n",
    "input_size = X.shape[1]  # Number of TF-IDF features\n",
    "hidden_size = 20\n",
    "num_classes = 4\n",
    "learning_rate = 0.01\n",
    "num_epochs = 100\n",
    "batch_size = 4"
   ]
  },
  {
   "cell_type": "markdown",
   "metadata": {},
   "source": [
    "## Loading Dataset"
   ]
  },
  {
   "cell_type": "code",
   "execution_count": 9,
   "metadata": {},
   "outputs": [],
   "source": [
    "# Create data loaders\n",
    "train_dataset = TextDataset(X_train, y_train)\n",
    "test_dataset = TextDataset(X_test, y_test)\n",
    "train_loader = DataLoader(train_dataset, batch_size=batch_size, shuffle=True)\n",
    "test_loader = DataLoader(test_dataset, batch_size=batch_size)"
   ]
  },
  {
   "cell_type": "markdown",
   "metadata": {},
   "source": [
    "## Initialize Model and Training"
   ]
  },
  {
   "cell_type": "code",
   "execution_count": 10,
   "metadata": {},
   "outputs": [],
   "source": [
    "# Initialize model, loss, and optimizer\n",
    "model = TextClassifier(input_size, hidden_size, num_classes)\n",
    "criterion = nn.CrossEntropyLoss()\n",
    "optimizer = torch.optim.Adam(model.parameters(), lr=learning_rate)"
   ]
  },
  {
   "cell_type": "code",
   "execution_count": 11,
   "metadata": {},
   "outputs": [
    {
     "name": "stdout",
     "output_type": "stream",
     "text": [
      "Epoch [20/100], Loss: 0.0016\n",
      "Epoch [40/100], Loss: 0.0004\n",
      "Epoch [60/100], Loss: 0.0002\n",
      "Epoch [80/100], Loss: 0.0001\n",
      "Epoch [100/100], Loss: 0.0000\n"
     ]
    }
   ],
   "source": [
    "# Training loop\n",
    "for epoch in range(num_epochs):\n",
    "    model.train()\n",
    "    total_loss = 0\n",
    "    for batch_X, batch_y in train_loader:\n",
    "        # Forward pass\n",
    "        outputs = model(batch_X)\n",
    "        loss = criterion(outputs, batch_y)\n",
    "        \n",
    "        # Backward pass and optimization\n",
    "        optimizer.zero_grad()\n",
    "        loss.backward()\n",
    "        optimizer.step()\n",
    "        \n",
    "        total_loss += loss.item()\n",
    "    \n",
    "    if (epoch + 1) % 20 == 0:\n",
    "        print(f'Epoch [{epoch+1}/{num_epochs}], Loss: {total_loss/len(train_loader):.4f}')"
   ]
  },
  {
   "cell_type": "markdown",
   "metadata": {},
   "source": [
    "## Evaluation"
   ]
  },
  {
   "cell_type": "code",
   "execution_count": 12,
   "metadata": {},
   "outputs": [
    {
     "name": "stdout",
     "output_type": "stream",
     "text": [
      "Test Accuracy: 100.00%\n"
     ]
    }
   ],
   "source": [
    "# Evaluation\n",
    "def evaluate(model, test_loader):\n",
    "    model.eval()\n",
    "    correct = 0\n",
    "    total = 0\n",
    "    with torch.no_grad():\n",
    "        for batch_X, batch_y in test_loader:\n",
    "            outputs = model(batch_X)\n",
    "            _, predicted = torch.max(outputs.data, 1)\n",
    "            total += batch_y.size(0)\n",
    "            correct += (predicted == batch_y).sum().item()\n",
    "    \n",
    "    accuracy = 100 * correct / total\n",
    "    return accuracy\n",
    "\n",
    "# Test the model\n",
    "accuracy = evaluate(model, test_loader)\n",
    "print(f'Test Accuracy: {accuracy:.2f}%')"
   ]
  },
  {
   "cell_type": "markdown",
   "metadata": {},
   "source": [
    "# Inference"
   ]
  },
  {
   "cell_type": "code",
   "execution_count": 13,
   "metadata": {},
   "outputs": [
    {
     "name": "stdout",
     "output_type": "stream",
     "text": [
      "Prediction for \"please turn on the fan\": fan_on\n"
     ]
    }
   ],
   "source": [
    "# Function to predict new text\n",
    "def predict_text(text, model, vectorizer):\n",
    "    model.eval()\n",
    "    # Transform new text using the same vectorizer\n",
    "    text_vector = vectorizer.transform([text]).toarray()\n",
    "    text_tensor = torch.FloatTensor(text_vector)\n",
    "    \n",
    "    with torch.no_grad():\n",
    "        output = model(text_tensor)\n",
    "        _, predicted = torch.max(output, 1)\n",
    "    \n",
    "    reverse_map = {0: \"lights_on\", 1: \"lights_off\", 2: \"fan_on\", 3: \"fan_off\"}\n",
    "    return reverse_map[predicted.item()]\n",
    "\n",
    "# Example prediction\n",
    "new_text = \"please turn on the fan\"\n",
    "prediction = predict_text(new_text, model, vectorizer)\n",
    "print(f'Prediction for \"{new_text}\": {prediction}')"
   ]
  },
  {
   "cell_type": "markdown",
   "metadata": {},
   "source": [
    "## Saving Model"
   ]
  },
  {
   "cell_type": "code",
   "execution_count": 14,
   "metadata": {},
   "outputs": [
    {
     "name": "stdout",
     "output_type": "stream",
     "text": [
      "Model saved to model/text_classifier_model.pth and vectorizer to model/text_classifier_model_vectorizer.pkl\n"
     ]
    }
   ],
   "source": [
    "def save_model(model, vectorizer, path=\"model/text_classifier_model\"):\n",
    "    # Create a dictionary with state dict and architecture parameters\n",
    "    save_dict = {\n",
    "        'state_dict': model.state_dict(),\n",
    "        'input_size': model.layer1.in_features,\n",
    "        'hidden_size': model.layer1.out_features,\n",
    "        'num_classes': model.layer2.out_features\n",
    "    }\n",
    "    \n",
    "    # Save the model dictionary\n",
    "    torch.save(save_dict, f\"{path}.pth\")\n",
    "    \n",
    "    # Save the vectorizer separately\n",
    "    with open(f\"{path}_vectorizer.pkl\", 'wb') as f:\n",
    "        pickle.dump(vectorizer, f)\n",
    "    print(f\"Model saved to {path}.pth and vectorizer to {path}_vectorizer.pkl\")\n",
    "\n",
    "# Save the model after training\n",
    "save_model(model, vectorizer)"
   ]
  },
  {
   "cell_type": "markdown",
   "metadata": {},
   "source": [
    "# Loading Model and Inference"
   ]
  },
  {
   "cell_type": "code",
   "execution_count": null,
   "metadata": {},
   "outputs": [],
   "source": [
    "def load_model(model_class, model_path=\"model/text_classifier_model.pth\", vectorizer_path=\"model/text_classifier_model_vectorizer.pkl\"):\n",
    "    # Load the saved dictionary\n",
    "    saved_data = torch.load(model_path)\n",
    "    \n",
    "    # Extract architecture parameters\n",
    "    input_size = saved_data['input_size']\n",
    "    hidden_size = saved_data['hidden_size']\n",
    "    num_classes = saved_data['num_classes']\n",
    "    \n",
    "    # Initialize the model with the saved parameters\n",
    "    loaded_model = model_class(input_size, hidden_size, num_classes)\n",
    "    \n",
    "    # Load the state dictionary\n",
    "    loaded_model.load_state_dict(saved_data['state_dict'])\n",
    "    loaded_model.eval()  # Set to evaluation mode\n",
    "    \n",
    "    # Load the vectorizer\n",
    "    with open(vectorizer_path, 'rb') as f:\n",
    "        loaded_vectorizer = pickle.load(f)\n",
    "    \n",
    "    return loaded_model, loaded_vectorizer"
   ]
  },
  {
   "cell_type": "code",
   "execution_count": 20,
   "metadata": {},
   "outputs": [],
   "source": [
    "# Example of how to use the loaded model\n",
    "def predict_with_loaded_model(text, model, vectorizer):\n",
    "    model.eval()\n",
    "    text_vector = vectorizer.transform([text]).toarray()\n",
    "    text_tensor = torch.FloatTensor(text_vector)\n",
    "    \n",
    "    with torch.no_grad():\n",
    "        output = model(text_tensor)\n",
    "        _, predicted = torch.max(output, 1)\n",
    "    \n",
    "    reverse_map = {0: \"lights_on\", 1: \"lights_off\", 2: \"fan_on\", 3: \"fan_off\"}\n",
    "    return reverse_map[predicted.item()]"
   ]
  },
  {
   "cell_type": "markdown",
   "metadata": {},
   "source": [
    "## Inference with loaded model"
   ]
  },
  {
   "cell_type": "code",
   "execution_count": 21,
   "metadata": {},
   "outputs": [
    {
     "name": "stdout",
     "output_type": "stream",
     "text": [
      "Prediction for \"turn on the fan please\" with loaded model: fan_on\n"
     ]
    },
    {
     "name": "stderr",
     "output_type": "stream",
     "text": [
      "C:\\Users\\quang\\AppData\\Local\\Temp\\ipykernel_18064\\2116704456.py:4: FutureWarning: You are using `torch.load` with `weights_only=False` (the current default value), which uses the default pickle module implicitly. It is possible to construct malicious pickle data which will execute arbitrary code during unpickling (See https://github.com/pytorch/pytorch/blob/main/SECURITY.md#untrusted-models for more details). In a future release, the default value for `weights_only` will be flipped to `True`. This limits the functions that could be executed during unpickling. Arbitrary objects will no longer be allowed to be loaded via this mode unless they are explicitly allowlisted by the user via `torch.serialization.add_safe_globals`. We recommend you start setting `weights_only=True` for any use case where you don't have full control of the loaded file. Please open an issue on GitHub for any issues related to this experimental feature.\n",
      "  saved_data = torch.load(model_path)\n"
     ]
    }
   ],
   "source": [
    "# After training and saving, you can later load it like this:\n",
    "loaded_model, loaded_vectorizer = load_model(TextClassifier)\n",
    "\n",
    "# Test the loaded model\n",
    "test_text = \"turn on the fan please\"\n",
    "prediction = predict_with_loaded_model(test_text, loaded_model, loaded_vectorizer)\n",
    "print(f'Prediction for \"{test_text}\" with loaded model: {prediction}')"
   ]
  }
 ],
 "metadata": {
  "kernelspec": {
   "display_name": "Python 3",
   "language": "python",
   "name": "python3"
  },
  "language_info": {
   "codemirror_mode": {
    "name": "ipython",
    "version": 3
   },
   "file_extension": ".py",
   "mimetype": "text/x-python",
   "name": "python",
   "nbconvert_exporter": "python",
   "pygments_lexer": "ipython3",
   "version": "3.11.2"
  }
 },
 "nbformat": 4,
 "nbformat_minor": 2
}
