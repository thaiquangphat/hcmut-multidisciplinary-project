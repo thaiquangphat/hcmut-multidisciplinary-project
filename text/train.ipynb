{
 "cells": [
  {
   "cell_type": "markdown",
   "metadata": {},
   "source": [
    "# Import Libraries"
   ]
  },
  {
   "cell_type": "code",
   "execution_count": 36,
   "metadata": {},
   "outputs": [
    {
     "name": "stdout",
     "output_type": "stream",
     "text": [
      "Tue Apr  8 23:53:52 2025       \n",
      "+-----------------------------------------------------------------------------+\n",
      "| NVIDIA-SMI 517.00       Driver Version: 517.00       CUDA Version: 11.7     |\n",
      "|-------------------------------+----------------------+----------------------+\n",
      "| GPU  Name            TCC/WDDM | Bus-Id        Disp.A | Volatile Uncorr. ECC |\n",
      "| Fan  Temp  Perf  Pwr:Usage/Cap|         Memory-Usage | GPU-Util  Compute M. |\n",
      "|                               |                      |               MIG M. |\n",
      "|===============================+======================+======================|\n",
      "|   0  NVIDIA GeForce ... WDDM  | 00000000:01:00.0 Off |                  N/A |\n",
      "| N/A   55C    P8     5W /  N/A |    883MiB /  4096MiB |     17%      Default |\n",
      "|                               |                      |                  N/A |\n",
      "+-------------------------------+----------------------+----------------------+\n",
      "                                                                               \n",
      "+-----------------------------------------------------------------------------+\n",
      "| Processes:                                                                  |\n",
      "|  GPU   GI   CI        PID   Type   Process name                  GPU Memory |\n",
      "|        ID   ID                                                   Usage      |\n",
      "|=============================================================================|\n",
      "|    0   N/A  N/A     20148      C   ...thon\\Python311\\python.exe    N/A      |\n",
      "|    0   N/A  N/A     24476    C+G   ...icrosoft VS Code\\Code.exe    N/A      |\n",
      "+-----------------------------------------------------------------------------+\n"
     ]
    }
   ],
   "source": [
    "!nvidia-smi"
   ]
  },
  {
   "cell_type": "code",
   "execution_count": 37,
   "metadata": {},
   "outputs": [],
   "source": [
    "import torch\n",
    "import torch.nn as nn\n",
    "import numpy as np\n",
    "from sklearn.feature_extraction.text import TfidfVectorizer\n",
    "from sklearn.model_selection import train_test_split\n",
    "from torch.utils.data import Dataset, DataLoader\n",
    "import json\n",
    "import pickle\n",
    "import matplotlib.pyplot as plt\n",
    "from collections import Counter\n",
    "from tabulate import tabulate"
   ]
  },
  {
   "cell_type": "markdown",
   "metadata": {},
   "source": [
    "Setting up device"
   ]
  },
  {
   "cell_type": "code",
   "execution_count": 38,
   "metadata": {},
   "outputs": [
    {
     "data": {
      "text/plain": [
       "device(type='cuda')"
      ]
     },
     "execution_count": 38,
     "metadata": {},
     "output_type": "execute_result"
    }
   ],
   "source": [
    "device = torch.device(\"cuda\" if torch.cuda.is_available() else \"cpu\")\n",
    "device"
   ]
  },
  {
   "cell_type": "markdown",
   "metadata": {},
   "source": [
    "# Loading Dataset"
   ]
  },
  {
   "cell_type": "code",
   "execution_count": 39,
   "metadata": {},
   "outputs": [],
   "source": [
    "data_path = 'dataset/synthetic_dataset.json'\n",
    "\n",
    "with open(data_path, 'r', encoding='utf-8') as file:\n",
    "    train_data = json.load(file)\n",
    "\n",
    "texts = [d['text'] for d in train_data]\n",
    "labels = [d['label'] for d in train_data]"
   ]
  },
  {
   "cell_type": "code",
   "execution_count": 40,
   "metadata": {},
   "outputs": [
    {
     "data": {
      "image/png": "[encoded data removed]",
      "text/plain": [
       "<Figure size 800x400 with 1 Axes>"
      ]
     },
     "metadata": {},
     "output_type": "display_data"
    }
   ],
   "source": [
    "# Extract labels\n",
    "labels = [item['label'] for item in train_data]\n",
    "\n",
    "# Count occurrences of each label\n",
    "label_counts = Counter(labels)\n",
    "\n",
    "# Prepare data for plotting\n",
    "label_names = list(label_counts.keys())\n",
    "label_values = list(label_counts.values())\n",
    "\n",
    "# Create bar plot\n",
    "plt.figure(figsize=(8, 4))\n",
    "plt.bar(label_names, label_values, color=['#FF9999', '#66B2FF', '#99FF99', '#FFCC99'])\n",
    "plt.xlabel('Labels')\n",
    "plt.ylabel('Number of Samples')\n",
    "plt.title('Dataset Label Distribution')\n",
    "plt.grid(axis='y', alpha=0.75)\n",
    "\n",
    "# Add value labels on top of each bar\n",
    "for i, v in enumerate(label_values):\n",
    "    plt.text(i, v + 1, str(v), ha='center', va='bottom')\n",
    "\n",
    "plt.show()"
   ]
  },
  {
   "cell_type": "markdown",
   "metadata": {},
   "source": [
    "Spliting dataset to train and test."
   ]
  },
  {
   "cell_type": "code",
   "execution_count": 41,
   "metadata": {},
   "outputs": [],
   "source": [
    "# Convert labels to numerical values\n",
    "label_map = {\"lights_on\": 0, \"lights_off\": 1, \"fan_on\": 2, \"fan_off\": 3}\n",
    "y = [label_map[label] for label in labels]\n",
    "\n",
    "# Convert text to TF-IDF features\n",
    "vectorizer = TfidfVectorizer(max_features=50)\n",
    "X = vectorizer.fit_transform(texts).toarray()\n",
    "\n",
    "# Split dataset\n",
    "X_train, X_test, y_train, y_test = train_test_split(X, y, test_size=0.2, random_state=42)"
   ]
  },
  {
   "cell_type": "markdown",
   "metadata": {},
   "source": [
    "Distribution of train and test set."
   ]
  },
  {
   "cell_type": "code",
   "execution_count": 42,
   "metadata": {},
   "outputs": [
    {
     "data": {
      "image/png": "[encoded data removed]",
      "text/plain": [
       "<Figure size 1200x500 with 2 Axes>"
      ]
     },
     "metadata": {},
     "output_type": "display_data"
    }
   ],
   "source": [
    "# Count label occurrences\n",
    "train_counter = Counter(y_train)\n",
    "test_counter = Counter(y_test)\n",
    "\n",
    "# Map label indices back to names for readability\n",
    "inverse_label_map = {v: k for k, v in label_map.items()}\n",
    "\n",
    "# Convert counts to label names\n",
    "train_labels = [inverse_label_map[i] for i in train_counter.keys()]\n",
    "test_labels = [inverse_label_map[i] for i in test_counter.keys()]\n",
    "\n",
    "# Plot\n",
    "fig, axes = plt.subplots(1, 2, figsize=(12, 5))\n",
    "\n",
    "# Train set distribution\n",
    "axes[0].bar(train_labels, train_counter.values(), color='skyblue')\n",
    "axes[0].set_title('Label Distribution in Training Set')\n",
    "axes[0].set_xlabel('Label')\n",
    "axes[0].set_ylabel('Count')\n",
    "axes[0].tick_params(axis='x', rotation=0)\n",
    "\n",
    "# Test set distribution\n",
    "axes[1].bar(test_labels, test_counter.values(), color='salmon')\n",
    "axes[1].set_title('Label Distribution in Test Set')\n",
    "axes[1].set_xlabel('Label')\n",
    "axes[1].set_ylabel('Count')\n",
    "axes[1].tick_params(axis='x', rotation=0)\n",
    "\n",
    "plt.tight_layout()\n",
    "plt.show()"
   ]
  },
  {
   "cell_type": "markdown",
   "metadata": {},
   "source": [
    "## Dataset Module"
   ]
  },
  {
   "cell_type": "code",
   "execution_count": 43,
   "metadata": {},
   "outputs": [],
   "source": [
    "# Custom Dataset class\n",
    "class TextDataset(Dataset):\n",
    "    def __init__(self, X, y):\n",
    "        self.X = torch.FloatTensor(X)\n",
    "        self.y = torch.LongTensor(y)\n",
    "    \n",
    "    def __len__(self):\n",
    "        return len(self.X)\n",
    "    \n",
    "    def __getitem__(self, idx):\n",
    "        return self.X[idx], self.y[idx]"
   ]
  },
  {
   "cell_type": "markdown",
   "metadata": {},
   "source": [
    "# Model"
   ]
  },
  {
   "cell_type": "code",
   "execution_count": 44,
   "metadata": {},
   "outputs": [],
   "source": [
    "# Neural Network Model\n",
    "class TextClassifier(nn.Module):\n",
    "    def __init__(self, input_size, hidden_size, num_classes):\n",
    "        super(TextClassifier, self).__init__()\n",
    "        self.layer1 = nn.Linear(input_size, hidden_size)\n",
    "        self.relu = nn.ReLU()\n",
    "        self.layer2 = nn.Linear(hidden_size, num_classes)\n",
    "    \n",
    "    def forward(self, x):\n",
    "        x = self.layer1(x)\n",
    "        x = self.relu(x)\n",
    "        x = self.layer2(x)\n",
    "        return x"
   ]
  },
  {
   "cell_type": "markdown",
   "metadata": {},
   "source": [
    "# Training"
   ]
  },
  {
   "cell_type": "markdown",
   "metadata": {},
   "source": [
    "## Hyperparameters"
   ]
  },
  {
   "cell_type": "code",
   "execution_count": 45,
   "metadata": {},
   "outputs": [],
   "source": [
    "# Hyperparameters\n",
    "input_size = X.shape[1]  # Number of TF-IDF features\n",
    "hidden_size = 20\n",
    "num_classes = 4\n",
    "learning_rate = 0.01\n",
    "num_epochs = 200\n",
    "batch_size = 10"
   ]
  },
  {
   "cell_type": "code",
   "execution_count": 46,
   "metadata": {},
   "outputs": [
    {
     "name": "stdout",
     "output_type": "stream",
     "text": [
      "Using device: cuda\n"
     ]
    }
   ],
   "source": [
    "print(f'Using device: {device}')"
   ]
  },
  {
   "cell_type": "markdown",
   "metadata": {},
   "source": [
    "## Loading Dataset"
   ]
  },
  {
   "cell_type": "code",
   "execution_count": 47,
   "metadata": {},
   "outputs": [],
   "source": [
    "# Datasets and Loaders\n",
    "train_loader = DataLoader(TextDataset(X_train, y_train), batch_size=batch_size, shuffle=True)\n",
    "test_loader = DataLoader(TextDataset(X_test, y_test), batch_size=batch_size)"
   ]
  },
  {
   "cell_type": "markdown",
   "metadata": {},
   "source": [
    "## Initialize Model and Training"
   ]
  },
  {
   "cell_type": "code",
   "execution_count": 48,
   "metadata": {},
   "outputs": [],
   "source": [
    "# Model, loss, optimizer\n",
    "model = TextClassifier(input_size, hidden_size, num_classes).to(device)\n",
    "criterion = nn.CrossEntropyLoss()\n",
    "optimizer = torch.optim.Adam(model.parameters(), lr=learning_rate)"
   ]
  },
  {
   "cell_type": "code",
   "execution_count": 49,
   "metadata": {},
   "outputs": [],
   "source": [
    "# Accuracy function\n",
    "def evaluate_accuracy(loader):\n",
    "    model.eval()\n",
    "    correct = total = 0\n",
    "    with torch.no_grad():\n",
    "        for X_batch, y_batch in loader:\n",
    "            X_batch, y_batch = X_batch.to(device), y_batch.to(device)\n",
    "            outputs = model(X_batch)\n",
    "            _, predicted = torch.max(outputs, 1)\n",
    "            total += y_batch.size(0)\n",
    "            correct += (predicted == y_batch).sum().item()\n",
    "    return correct / total"
   ]
  },
  {
   "cell_type": "code",
   "execution_count": 50,
   "metadata": {},
   "outputs": [
    {
     "name": "stdout",
     "output_type": "stream",
     "text": [
      "Epoch      Train Loss      Test Accuracy  \n",
      "========================================\n",
      "20         0.0002          100.00         \n",
      "40         0.0000          100.00         \n",
      "60         0.0000          100.00         \n",
      "80         0.0000          100.00         \n",
      "100        0.0000          100.00         \n",
      "120        0.0000          100.00         \n",
      "140        0.0000          100.00         \n",
      "160        0.0000          100.00         \n",
      "180        0.0000          100.00         \n",
      "200        0.0000          100.00         \n"
     ]
    }
   ],
   "source": [
    "# Training\n",
    "train_losses = []\n",
    "\n",
    "print(f\"{'Epoch':<10} {'Train Loss':<15} {'Test Accuracy':<15}\")\n",
    "print(\"=\" * 40)\n",
    "\n",
    "for epoch in range(num_epochs):\n",
    "    model.train()\n",
    "    total_loss = 0\n",
    "\n",
    "    for X_batch, y_batch in train_loader:\n",
    "        X_batch, y_batch = X_batch.to(device), y_batch.to(device)\n",
    "        \n",
    "        outputs = model(X_batch)\n",
    "        loss = criterion(outputs, y_batch)\n",
    "\n",
    "        optimizer.zero_grad()\n",
    "        loss.backward()\n",
    "        optimizer.step()\n",
    "        total_loss += loss.item()\n",
    "\n",
    "    avg_loss = total_loss / len(train_loader)\n",
    "    train_losses.append(avg_loss)\n",
    "\n",
    "    if (epoch + 1) % 20 == 0 or epoch == num_epochs - 1:\n",
    "        acc = evaluate_accuracy(test_loader)\n",
    "        print(f\"{epoch+1:<10} {avg_loss:<15.4f} {acc*100:<15.2f}\")"
   ]
  },
  {
   "cell_type": "code",
   "execution_count": 51,
   "metadata": {},
   "outputs": [
    {
     "data": {
      "image/png": "[encoded data removed]",
      "text/plain": [
       "<Figure size 800x400 with 1 Axes>"
      ]
     },
     "metadata": {},
     "output_type": "display_data"
    }
   ],
   "source": [
    "# Plotting the training loss\n",
    "plt.figure(figsize=(8, 4))\n",
    "plt.plot(range(1, num_epochs + 1), train_losses, label='Training Loss')\n",
    "plt.xlabel('Epoch')\n",
    "plt.ylabel('Loss')\n",
    "plt.title('Training Loss Over Time')\n",
    "plt.legend()\n",
    "plt.grid(True)\n",
    "plt.show()"
   ]
  },
  {
   "cell_type": "markdown",
   "metadata": {},
   "source": [
    "## Evaluation"
   ]
  },
  {
   "cell_type": "code",
   "execution_count": 52,
   "metadata": {},
   "outputs": [
    {
     "name": "stdout",
     "output_type": "stream",
     "text": [
      "Test Accuracy: 100.00%\n"
     ]
    }
   ],
   "source": [
    "# Evaluation\n",
    "def evaluate(model, test_loader):\n",
    "    model.eval()\n",
    "    correct = 0\n",
    "    total = 0\n",
    "    with torch.no_grad():\n",
    "        for batch_X, batch_y in test_loader:\n",
    "            batch_X = batch_X.to(device)\n",
    "            batch_y = batch_y.to(device)\n",
    "            outputs = model(batch_X)\n",
    "            _, predicted = torch.max(outputs.data, 1)\n",
    "            total += batch_y.size(0)\n",
    "            correct += (predicted == batch_y).sum().item()\n",
    "    \n",
    "    accuracy = 100 * correct / total\n",
    "    return accuracy\n",
    "\n",
    "# Test the model\n",
    "accuracy = evaluate(model, test_loader)\n",
    "print(f'Test Accuracy: {accuracy:.2f}%')"
   ]
  },
  {
   "cell_type": "markdown",
   "metadata": {},
   "source": [
    "# Inference"
   ]
  },
  {
   "cell_type": "code",
   "execution_count": 53,
   "metadata": {},
   "outputs": [
    {
     "name": "stdout",
     "output_type": "stream",
     "text": [
      "Prediction for \"fan on\": fan_on\n"
     ]
    }
   ],
   "source": [
    "# Function to predict new text\n",
    "def predict_text(text, model, vectorizer):\n",
    "    model.eval()\n",
    "    # Transform new text using the same vectorizer\n",
    "    text_vector = vectorizer.transform([text]).toarray()\n",
    "    text_tensor = torch.FloatTensor(text_vector).to(device)\n",
    "    \n",
    "    with torch.no_grad():\n",
    "        output = model(text_tensor)\n",
    "        _, predicted = torch.max(output, 1)\n",
    "    \n",
    "    reverse_map = {0: \"lights_on\", 1: \"lights_off\", 2: \"fan_on\", 3: \"fan_off\"}\n",
    "    return reverse_map[predicted.item()]\n",
    "\n",
    "# Example prediction\n",
    "new_text = \"fan on\"\n",
    "prediction = predict_text(new_text, model, vectorizer)\n",
    "print(f'Prediction for \"{new_text}\": {prediction}')"
   ]
  },
  {
   "cell_type": "markdown",
   "metadata": {},
   "source": [
    "## Saving Model"
   ]
  },
  {
   "cell_type": "code",
   "execution_count": 54,
   "metadata": {},
   "outputs": [
    {
     "name": "stdout",
     "output_type": "stream",
     "text": [
      "✅ Model saved to 'model/TextClassifier.pth'\n",
      "✅ Vectorizer saved to 'model/TextClassifier_vectorizer.pkl'\n"
     ]
    }
   ],
   "source": [
    "def save_model(model, vectorizer, path=\"model/text_classifier_model\"):\n",
    "    # Create a dictionary with state dict and architecture parameters\n",
    "    save_dict = {\n",
    "        'state_dict': model.state_dict(),\n",
    "        'input_size': model.layer1.in_features,\n",
    "        'hidden_size': model.layer1.out_features,\n",
    "        'num_classes': model.layer2.out_features\n",
    "    }\n",
    "    \n",
    "    # Save the model dictionary\n",
    "    torch.save(save_dict, f\"{path}.pth\")\n",
    "    \n",
    "    with open(f\"{path}_vectorizer.pkl\", 'wb') as f:\n",
    "        pickle.dump(vectorizer, f)\n",
    "    \n",
    "    print(f\"✅ Model saved to '{path}.pth'\")\n",
    "    print(f\"✅ Vectorizer saved to '{path}_vectorizer.pkl'\")\n",
    "\n",
    "# Save the model after training\n",
    "model_name = 'model/TextClassifier'\n",
    "save_model(model, vectorizer, model_name)"
   ]
  },
  {
   "cell_type": "markdown",
   "metadata": {},
   "source": [
    "# Loading Model and Inference"
   ]
  },
  {
   "cell_type": "code",
   "execution_count": 55,
   "metadata": {},
   "outputs": [],
   "source": [
    "def load_model(model_class, model_path=\"model/TextClassifier.pth\", vectorizer_path=\"model/TextClassifier_vectorizer.pkl\"):\n",
    "    device = torch.device(\"cuda\" if torch.cuda.is_available() else \"cpu\")\n",
    "\n",
    "    saved_data = torch.load(model_path, map_location=device, weights_only=False)\n",
    "\n",
    "    input_size = saved_data['input_size']\n",
    "    hidden_size = saved_data['hidden_size']\n",
    "    num_classes = saved_data['num_classes']\n",
    "\n",
    "    loaded_model = model_class(input_size, hidden_size, num_classes).to(device)\n",
    "    loaded_model.load_state_dict(saved_data['state_dict'])\n",
    "    loaded_model.eval()\n",
    "\n",
    "    with open(vectorizer_path, 'rb') as f:\n",
    "        loaded_vectorizer = pickle.load(f)\n",
    "\n",
    "    print(\"✅ Model and vectorizer loaded successfully.\")\n",
    "    return loaded_model, loaded_vectorizer, device"
   ]
  },
  {
   "cell_type": "code",
   "execution_count": 56,
   "metadata": {},
   "outputs": [],
   "source": [
    "# Example of how to use the loaded model\n",
    "def predict_with_loaded_model(text, model, vectorizer, device):\n",
    "    model.eval()\n",
    "    text_vector = vectorizer.transform([text]).toarray()\n",
    "    text_tensor = torch.FloatTensor(text_vector).to(device)\n",
    "    \n",
    "    with torch.no_grad():\n",
    "        output = model(text_tensor)\n",
    "        _, predicted = torch.max(output, 1)\n",
    "    \n",
    "    reverse_map = {0: \"lights_on\", 1: \"lights_off\", 2: \"fan_on\", 3: \"fan_off\"}\n",
    "    return reverse_map[predicted.item()]"
   ]
  },
  {
   "cell_type": "markdown",
   "metadata": {},
   "source": [
    "## Inference with loaded model"
   ]
  },
  {
   "cell_type": "code",
   "execution_count": 57,
   "metadata": {},
   "outputs": [
    {
     "name": "stdout",
     "output_type": "stream",
     "text": [
      "✅ Model and vectorizer loaded successfully.\n"
     ]
    }
   ],
   "source": [
    "# After training and saving, you can later load it like this:\n",
    "loaded_model, loaded_vectorizer, device = load_model(TextClassifier)\n",
    "\n",
    "test_samples = [\n",
    "    # fan_on\n",
    "    {\"text\": \"can you turn the fan on\", \"label\": \"fan_on\"},\n",
    "    {\"text\": \"fan needs to be running\", \"label\": \"fan_on\"},\n",
    "    {\"text\": \"I want the fan on now\", \"label\": \"fan_on\"},\n",
    "    \n",
    "    # fan_off\n",
    "    {\"text\": \"kill the fan\", \"label\": \"fan_off\"},\n",
    "    {\"text\": \"turn that fan off\", \"label\": \"fan_off\"},\n",
    "    {\"text\": \"yo shut off the fan\", \"label\": \"fan_off\"},\n",
    "    \n",
    "    # lights_on\n",
    "    {\"text\": \"let there be light\", \"label\": \"lights_on\"},\n",
    "    {\"text\": \"I can't see, lights on\", \"label\": \"lights_on\"},\n",
    "    {\"text\": \"please switch the lights on\", \"label\": \"lights_on\"},\n",
    "    \n",
    "    # lights_off\n",
    "    {\"text\": \"it's too bright, turn off the lights\", \"label\": \"lights_off\"},\n",
    "    {\"text\": \"kill the lights\", \"label\": \"lights_off\"},\n",
    "    {\"text\": \"I’m going to sleep, lights off\", \"label\": \"lights_off\"},\n",
    "]\n",
    "\n",
    "results = []\n",
    "\n",
    "for sample in test_samples:\n",
    "    text = sample['text']\n",
    "    label = sample['label']\n",
    "\n",
    "    prediction = predict_with_loaded_model(text, loaded_model, loaded_vectorizer, device)\n",
    "\n",
    "    match = \"✅\" if prediction == label else \"❌\"\n",
    "    results.append([text, label, prediction, match])"
   ]
  },
  {
   "cell_type": "code",
   "execution_count": 58,
   "metadata": {},
   "outputs": [
    {
     "name": "stdout",
     "output_type": "stream",
     "text": [
      "Text                                  True Label    Predicted Label    Match\n",
      "------------------------------------  ------------  -----------------  -------\n",
      "can you turn the fan on               fan_on        fan_on             ✅\n",
      "fan needs to be running               fan_on        fan_on             ✅\n",
      "I want the fan on now                 fan_on        fan_on             ✅\n",
      "kill the fan                          fan_off       fan_off            ✅\n",
      "turn that fan off                     fan_off       fan_off            ✅\n",
      "yo shut off the fan                   fan_off       fan_off            ✅\n",
      "let there be light                    lights_on     lights_on          ✅\n",
      "I can't see, lights on                lights_on     lights_on          ✅\n",
      "please switch the lights on           lights_on     lights_on          ✅\n",
      "it's too bright, turn off the lights  lights_off    lights_off         ✅\n",
      "kill the lights                       lights_off    lights_off         ✅\n",
      "I’m going to sleep, lights off        lights_off    lights_off         ✅\n"
     ]
    }
   ],
   "source": [
    "# Print as a table\n",
    "headers = [\"Text\", \"True Label\", \"Predicted Label\", \"Match\"]\n",
    "print(tabulate(results, headers=headers, tablefmt=\"simple\"))"
   ]
  }
 ],
 "metadata": {
  "kernelspec": {
   "display_name": "Python 3",
   "language": "python",
   "name": "python3"
  },
  "language_info": {
   "codemirror_mode": {
    "name": "ipython",
    "version": 3
   },
   "file_extension": ".py",
   "mimetype": "text/x-python",
   "name": "python",
   "nbconvert_exporter": "python",
   "pygments_lexer": "ipython3",
   "version": "3.11.2"
  }
 },
 "nbformat": 4,
 "nbformat_minor": 2
}
