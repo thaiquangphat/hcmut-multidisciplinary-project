{
 "cells": [
  {
   "cell_type": "markdown",
   "metadata": {},
   "source": [
    "# Connecting"
   ]
  },
  {
   "cell_type": "code",
   "execution_count": 1,
   "metadata": {},
   "outputs": [],
   "source": [
    "import sys\n",
    "from Adafruit_IO import MQTTClient\n",
    "import random\n",
    "import time"
   ]
  },
  {
   "cell_type": "code",
   "execution_count": null,
   "metadata": {},
   "outputs": [],
   "source": [
    "%pip install pyserial"
   ]
  },
  {
   "cell_type": "code",
   "execution_count": 2,
   "metadata": {},
   "outputs": [],
   "source": [
    "AIO_FEED_ID = 'humidity_2'\n",
    "AIO_USERNAME = 'Phat_Adafruit'\n",
    "AIO_KEY = 'aio_FpCw83QuD1wktNbwmwyGBBajuNEU'"
   ]
  },
  {
   "cell_type": "markdown",
   "metadata": {},
   "source": [
    "# Using MQTTClient"
   ]
  },
  {
   "cell_type": "markdown",
   "metadata": {},
   "source": [
    "## Connecting to module"
   ]
  },
  {
   "cell_type": "code",
   "execution_count": null,
   "metadata": {},
   "outputs": [],
   "source": [
    "def connected(client): \n",
    "    client.subscribe(AIO_FEED_ID)\n",
    "    print('Kết nối thành công.')\n",
    "\n",
    "def subscribe(client, userdata, mid, granted_qos):\n",
    "    print('Subscribe thành công.')\n",
    "\n",
    "def disconnected(client):\n",
    "    sys.exit(1)\n",
    "    print('Ngắt kết nối thành công.')\n",
    "\n",
    "def message(client, feed_id, payload):\n",
    "    print('Nhận dữ liệu ' + payload)\n",
    "    return payload"
   ]
  },
  {
   "cell_type": "code",
   "execution_count": null,
   "metadata": {},
   "outputs": [],
   "source": [
    "import json\n",
    "\n",
    "client = MQTTClient(AIO_USERNAME , AIO_KEY)\n",
    "client.on_connect = connected\n",
    "client.on_disconnect = disconnected\n",
    "client.on_message = message\n",
    "client.on_subscribe = subscribe\n",
    "client.connect()\n",
    "client.loop_background()\n",
    "values = []\n",
    "\n",
    "while True:\n",
    "    value = random.randint(0, 100)\n",
    "    print(\"Cập nhật:\", value)\n",
    "    client.publish(\"humidity_2\", value)\n",
    "    time.sleep(5)"
   ]
  },
  {
   "cell_type": "markdown",
   "metadata": {},
   "source": [
    "# Using Client"
   ]
  },
  {
   "cell_type": "code",
   "execution_count": 3,
   "metadata": {},
   "outputs": [
    {
     "data": {
      "text/plain": [
       "[Feed(name='temperature', key='temperature', id=3025380, description=None, unit_type=None, unit_symbol=None, history=True, visibility='private', license=None, status_notify=False, status_timeout=4320),\n",
       " Feed(name='humidity', key='humidity', id=3025398, description=None, unit_type=None, unit_symbol=None, history=True, visibility='private', license=None, status_notify=False, status_timeout=4320),\n",
       " Feed(name='motion', key='motion', id=3025430, description='', unit_type=None, unit_symbol=None, history=True, visibility='private', license=None, status_notify=False, status_timeout=4320),\n",
       " Feed(name='light', key='light', id=3031484, description='', unit_type=None, unit_symbol=None, history=True, visibility='private', license=None, status_notify=False, status_timeout=4320),\n",
       " Feed(name='new_light', key='new-light', id=3055326, description=None, unit_type=None, unit_symbol=None, history=True, visibility='private', license=None, status_notify=False, status_timeout=4320),\n",
       " Feed(name='fan', key='fan', id=3055407, description=None, unit_type=None, unit_symbol=None, history=True, visibility='private', license=None, status_notify=False, status_timeout=4320),\n",
       " Feed(name='led', key='led', id=3056758, description=None, unit_type=None, unit_symbol=None, history=True, visibility='private', license=None, status_notify=False, status_timeout=4320),\n",
       " Feed(name='lights', key='lights', id=3058178, description=None, unit_type=None, unit_symbol=None, history=True, visibility='private', license=None, status_notify=False, status_timeout=4320),\n",
       " Feed(name='humidity_2', key='humidity-2', id=3058424, description=None, unit_type=None, unit_symbol=None, history=True, visibility='private', license=None, status_notify=False, status_timeout=4320),\n",
       " Feed(name='temp', key='temp', id=3058442, description=None, unit_type=None, unit_symbol=None, history=True, visibility='private', license=None, status_notify=False, status_timeout=4320)]"
      ]
     },
     "execution_count": 3,
     "metadata": {},
     "output_type": "execute_result"
    }
   ],
   "source": [
    "from Adafruit_IO import Client\n",
    "aio = Client(username=AIO_USERNAME, key=AIO_KEY)\n",
    "aio.feeds()"
   ]
  },
  {
   "cell_type": "markdown",
   "metadata": {},
   "source": [
    "## Receiving values"
   ]
  },
  {
   "cell_type": "code",
   "execution_count": null,
   "metadata": {},
   "outputs": [],
   "source": [
    "from Adafruit_IO import Client\n",
    "\n",
    "aio = Client(username=AIO_USERNAME, key=AIO_KEY)\n",
    "while True:\n",
    "    recive_value = aio.receive('fan').value\n",
    "    print(\"Received value\", recive_value, \"from 'fan'\")"
   ]
  },
  {
   "cell_type": "markdown",
   "metadata": {},
   "source": [
    "## Sending values"
   ]
  },
  {
   "cell_type": "code",
   "execution_count": null,
   "metadata": {},
   "outputs": [],
   "source": [
    "from Adafruit_IO import Client\n",
    "\n",
    "aio = Client(username=AIO_USERNAME, key=AIO_KEY)\n",
    "\n",
    "while True:\n",
    "    value = random.randint(0, 100)\n",
    "    print(\"Send value\", value, \"to 'humidity'\")\n",
    "    aio.send('humidity', value)\n",
    "    time.sleep(5)"
   ]
  }
 ],
 "metadata": {
  "kernelspec": {
   "display_name": "Python 3",
   "language": "python",
   "name": "python3"
  },
  "language_info": {
   "codemirror_mode": {
    "name": "ipython",
    "version": 3
   },
   "file_extension": ".py",
   "mimetype": "text/x-python",
   "name": "python",
   "nbconvert_exporter": "python",
   "pygments_lexer": "ipython3",
   "version": "3.11.2"
  }
 },
 "nbformat": 4,
 "nbformat_minor": 2
}
