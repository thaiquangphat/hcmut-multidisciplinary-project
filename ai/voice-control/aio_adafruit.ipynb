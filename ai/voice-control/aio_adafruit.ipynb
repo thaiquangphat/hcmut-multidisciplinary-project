{
 "cells": [
  {
   "cell_type": "markdown",
   "metadata": {},
   "source": [
    "# Connecting"
   ]
  },
  {
   "cell_type": "code",
   "execution_count": null,
   "metadata": {},
   "outputs": [],
   "source": [
    "import sys\n",
    "from Adafruit_IO import MQTTClient\n",
    "import random\n",
    "import time"
   ]
  },
  {
   "cell_type": "code",
   "execution_count": null,
   "metadata": {},
   "outputs": [],
   "source": [
    "%pip install pyserial"
   ]
  },
  {
   "cell_type": "code",
   "execution_count": null,
   "metadata": {},
   "outputs": [],
   "source": [
    "AIO_FEED_ID = 'humidity_2'\n",
    "AIO_USERNAME = 'Phat_Adafruit'\n",
    "AIO_KEY = 'aio_FpCw83QuD1wktNbwmwyGBBajuNEU'"
   ]
  },
  {
   "cell_type": "markdown",
   "metadata": {},
   "source": [
    "# Using MQTTClient"
   ]
  },
  {
   "cell_type": "markdown",
   "metadata": {},
   "source": [
    "## Connecting to module"
   ]
  },
  {
   "cell_type": "code",
   "execution_count": null,
   "metadata": {},
   "outputs": [],
   "source": [
    "def connected(client): \n",
    "    client.subscribe(AIO_FEED_ID)\n",
    "    print('Kết nối thành công.')\n",
    "\n",
    "def subscribe(client, userdata, mid, granted_qos):\n",
    "    print('Subscribe thành công.')\n",
    "\n",
    "def disconnected(client):\n",
    "    sys.exit(1)\n",
    "    print('Ngắt kết nối thành công.')\n",
    "\n",
    "def message(client, feed_id, payload):\n",
    "    print('Nhận dữ liệu ' + payload)\n",
    "    return payload"
   ]
  },
  {
   "cell_type": "code",
   "execution_count": null,
   "metadata": {},
   "outputs": [],
   "source": [
    "import json\n",
    "\n",
    "client = MQTTClient(AIO_USERNAME , AIO_KEY)\n",
    "client.on_connect = connected\n",
    "client.on_disconnect = disconnected\n",
    "client.on_message = message\n",
    "client.on_subscribe = subscribe\n",
    "client.connect()\n",
    "client.loop_background()\n",
    "values = []\n",
    "\n",
    "while True:\n",
    "    value = random.randint(0, 100)\n",
    "    print(\"Cập nhật:\", value)\n",
    "    client.publish(\"humidity_2\", value)\n",
    "    time.sleep(5)"
   ]
  },
  {
   "cell_type": "markdown",
   "metadata": {},
   "source": [
    "# Using Client"
   ]
  },
  {
   "cell_type": "code",
   "execution_count": null,
   "metadata": {},
   "outputs": [],
   "source": [
    "from Adafruit_IO import Client\n",
    "aio = Client(username=AIO_USERNAME, key=AIO_KEY)\n",
    "aio.feeds()"
   ]
  },
  {
   "cell_type": "markdown",
   "metadata": {},
   "source": [
    "## Receiving values"
   ]
  },
  {
   "cell_type": "code",
   "execution_count": null,
   "metadata": {},
   "outputs": [],
   "source": [
    "from Adafruit_IO import Client\n",
    "\n",
    "aio = Client(username=AIO_USERNAME, key=AIO_KEY)\n",
    "while True:\n",
    "    recive_value = aio.receive('fan').value\n",
    "    print(\"Received value\", recive_value, \"from 'fan'\")"
   ]
  },
  {
   "cell_type": "markdown",
   "metadata": {},
   "source": [
    "## Sending values"
   ]
  },
  {
   "cell_type": "code",
   "execution_count": null,
   "metadata": {},
   "outputs": [],
   "source": [
    "from Adafruit_IO import Client\n",
    "\n",
    "aio = Client(username=AIO_USERNAME, key=AIO_KEY)\n",
    "\n",
    "while True:\n",
    "    value = random.randint(0, 100)\n",
    "    print(\"Send value\", value, \"to 'humidity'\")\n",
    "    aio.send('humidity', value)\n",
    "    time.sleep(5)"
   ]
  }
 ],
 "metadata": {
  "kernelspec": {
   "display_name": "Python 3",
   "language": "python",
   "name": "python3"
  },
  "language_info": {
   "codemirror_mode": {
    "name": "ipython",
    "version": 3
   },
   "file_extension": ".py",
   "mimetype": "text/x-python",
   "name": "python",
   "nbconvert_exporter": "python",
   "pygments_lexer": "ipython3",
   "version": "3.11.2"
  }
 },
 "nbformat": 4,
 "nbformat_minor": 2
}
