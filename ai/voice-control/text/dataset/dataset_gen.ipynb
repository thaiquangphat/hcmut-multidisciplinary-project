{
 "cells": [
  {
   "cell_type": "markdown",
   "id": "f11e9cd9",
   "metadata": {},
   "source": [
    "# Version 3"
   ]
  },
  {
   "cell_type": "code",
   "execution_count": 1,
   "id": "fa908b50",
   "metadata": {},
   "outputs": [],
   "source": [
    "import json\n",
    "import random\n",
    "\n",
    "# Advanced templates\n",
    "templates = {\n",
    "    \"fan_on\": [\n",
    "        \"it's getting hot, turn on the fan\", \"we need some airflow in here\", \"make the fan spin\",\n",
    "        \"let's get some breeze going\", \"can you make the fan work?\", \"I could use some wind\",\n",
    "        \"fan needs to be running\", \"I need the fan to start up\", \"can you help cool the room?\",\n",
    "        \"turn that ceiling fan on\", \"this room is stuffy, start the fan\", \"get the fan going please\",\n",
    "        \"can we have the fan on?\", \"activate cooling with the fan\", \"start the fan, it’s too warm\",\n",
    "        \"set the fan to run now\", \"why is the fan off? turn it on\", \"help me cool down, run the fan\",\n",
    "        \"switch the fan to on mode\", \"power up the fan\"\n",
    "    ],\n",
    "    \"fan_off\": [\n",
    "        \"the fan is too loud, shut it off\", \"stop the air circulation\", \"turn off that thing spinning\",\n",
    "        \"the fan should stop now\", \"cooling is not needed anymore\", \"I want some quiet, stop the fan\",\n",
    "        \"disable the fan now\", \"it’s cold, turn off the fan\", \"cut the airflow\", \"can we stop the fan?\",\n",
    "        \"please deactivate the fan\", \"the fan has been on too long\", \"we don’t need the fan anymore\",\n",
    "        \"kill the fan power\", \"yo, fan off\", \"halt the fan\", \"no more breeze, turn it off\",\n",
    "        \"fan is making noise, shut it down\", \"I’m freezing, stop the fan\", \"the fan’s still on?\"\n",
    "    ],\n",
    "    \"lights_on\": [\n",
    "        \"it's too dark, get the lights on\", \"can we brighten this place?\", \"light up the room\",\n",
    "        \"bring some light in here\", \"make it less gloomy, turn on lights\", \"I need more visibility\",\n",
    "        \"switch on the overhead lights\", \"I can't see, lights please\", \"power on the lights\",\n",
    "        \"we need illumination\", \"I need light to work\", \"let there be light\", \"it’s dim here\",\n",
    "        \"get those lights going\", \"turn on the lights for me\", \"yo, light it up\",\n",
    "        \"hey assistant, brighten the room\", \"activate lighting system\", \"enable room lights\", \"give me some light\"\n",
    "    ],\n",
    "    \"lights_off\": [\n",
    "        \"it's too bright, can you dim it down?\", \"turn the lights off, I'm heading to bed\",\n",
    "        \"kill the brightness\", \"shut the lights please\", \"cut the illumination\",\n",
    "        \"it's bedtime, lights off\", \"I don’t need the lights now\", \"turn off the overhead lights\",\n",
    "        \"the lights are hurting my eyes\", \"reduce the light to zero\", \"I want darkness now\",\n",
    "        \"I need it darker in here\", \"the room is too bright\", \"disable the lights\",\n",
    "        \"put out the lights\", \"can we go dark in here?\", \"enough light already\",\n",
    "        \"kill the light system\", \"lights off please\", \"yo, blackout the room\"\n",
    "    ],\n",
    "    \"none\": [\n",
    "        \"what's on my calendar today?\", \"set a reminder for 5pm\", \"how’s the stock market?\",\n",
    "        \"play the next song\", \"who's at the door?\", \"tell me a joke\", \"open YouTube\",\n",
    "        \"order me a pizza\", \"text my friend\", \"what's the time now?\", \"read my notifications\",\n",
    "        \"call mom\", \"what’s the weather tomorrow?\", \"navigate to the nearest gas station\",\n",
    "        \"I’m hungry\", \"book a cab\", \"schedule a meeting\", \"how many steps did I walk today?\",\n",
    "        \"show me the news\", \"set a timer for 10 minutes\"\n",
    "    ]\n",
    "}"
   ]
  },
  {
   "cell_type": "code",
   "execution_count": 2,
   "id": "a2692265",
   "metadata": {},
   "outputs": [
    {
     "name": "stdout",
     "output_type": "stream",
     "text": [
      "🔁 Complex dataset with 1250 samples saved to 'dataset_ver3.json'\n"
     ]
    }
   ],
   "source": [
    "# Generate dataset\n",
    "dataset = []\n",
    "samples_per_label = 250  # Total 1250 samples for 5 labels\n",
    "\n",
    "for label, phrases in templates.items():\n",
    "    for _ in range(samples_per_label):\n",
    "        base = random.choice(phrases)\n",
    "        prefix = random.choice([\"\", \"hey,\", \"yo\", \"assistant,\", \"ok\", \"please\"])\n",
    "        suffix = random.choice([\"\", \"thanks\", \"now\", \"right away\", \"if you can\", \"ASAP\"])\n",
    "\n",
    "        command = f\"{prefix} {base} {suffix}\".strip().replace(\"  \", \" \")\n",
    "        dataset.append({\n",
    "            \"text\": command.lower(),\n",
    "            \"label\": label\n",
    "        })\n",
    "\n",
    "# Shuffle\n",
    "random.shuffle(dataset)\n",
    "\n",
    "# Save\n",
    "with open(\"dataset_ver3.json\", \"w\", encoding=\"utf-8\") as f:\n",
    "    json.dump(dataset, f, indent=2, ensure_ascii=False)\n",
    "\n",
    "print(\"🔁 Complex dataset with 1250 samples saved to 'dataset_ver3.json'\")"
   ]
  },
  {
   "cell_type": "markdown",
   "id": "f406be87",
   "metadata": {},
   "source": [
    "# Version 2"
   ]
  },
  {
   "cell_type": "code",
   "execution_count": 3,
   "id": "afeb448d",
   "metadata": {},
   "outputs": [
    {
     "name": "stdout",
     "output_type": "stream",
     "text": [
      "Dataset of 1000 samples generated and saved to 'dataset_ver2.json'\n"
     ]
    }
   ],
   "source": [
    "import json\n",
    "import random\n",
    "\n",
    "# Define label and phrase templates\n",
    "templates = {\n",
    "    \"fan_on\": [\n",
    "        \"turn on the fan\", \"switch on the fan\", \"can you turn on the fan\", \"please start the fan\",\n",
    "        \"I want the fan on\", \"fan on please\", \"activate the fan\", \"start the fan now\"\n",
    "    ],\n",
    "    \"fan_off\": [\n",
    "        \"turn off the fan\", \"switch off the fan\", \"please stop the fan\", \"can you shut the fan off\",\n",
    "        \"I want the fan off\", \"fan off please\", \"deactivate the fan\", \"kill the fan\"\n",
    "    ],\n",
    "    \"lights_on\": [\n",
    "        \"turn on the lights\", \"switch on the lights\", \"lights on please\", \"I want light\",\n",
    "        \"please turn the lights on\", \"activate the lights\", \"light it up\", \"start the lights\"\n",
    "    ],\n",
    "    \"lights_off\": [\n",
    "        \"turn off the lights\", \"switch off the lights\", \"lights off please\", \"I want it dark\",\n",
    "        \"please turn the lights off\", \"deactivate the lights\", \"cut the lights\", \"kill the lights\"\n",
    "    ]\n",
    "}\n",
    "\n",
    "# Generate dataset\n",
    "dataset = []\n",
    "samples_per_label = 250  # 250 samples × 4 labels = 1000 samples\n",
    "\n",
    "for label, phrases in templates.items():\n",
    "    for _ in range(samples_per_label):\n",
    "        base = random.choice(phrases)\n",
    "        # Optionally add polite prefixes/suffixes\n",
    "        prefix = random.choice([\"\", \"hey,\", \"ok\", \"yo\", \"hey assistant,\", \"please\"])\n",
    "        suffix = random.choice([\"\", \"thanks\", \"now\", \"right away\", \"if you can\", \"ASAP\"])\n",
    "\n",
    "        # Combine and clean up\n",
    "        command = f\"{prefix} {base} {suffix}\".strip().replace(\"  \", \" \")\n",
    "        dataset.append({\n",
    "            \"text\": command.lower(),\n",
    "            \"label\": label\n",
    "        })\n",
    "\n",
    "# Shuffle for randomness\n",
    "random.shuffle(dataset)\n",
    "\n",
    "# Save to JSON\n",
    "with open(\"dataset_ver2.json\", \"w\", encoding=\"utf-8\") as f:\n",
    "    json.dump(dataset, f, indent=2, ensure_ascii=False)\n",
    "\n",
    "print(\"Dataset of 1000 samples generated and saved to 'dataset_ver2.json'\")"
   ]
  },
  {
   "cell_type": "markdown",
   "id": "191ea3ca",
   "metadata": {},
   "source": [
    "# Version 1"
   ]
  },
  {
   "cell_type": "code",
   "execution_count": 4,
   "id": "d6db7364",
   "metadata": {},
   "outputs": [
    {
     "name": "stdout",
     "output_type": "stream",
     "text": [
      "Synthetic dataset saved to dataset_ver1.json\n"
     ]
    }
   ],
   "source": [
    "import itertools\n",
    "import json\n",
    "\n",
    "adjectives = {\n",
    "    \"fast\": 4, \"bright\": 5, \"cold\": 2, \"warm\": 3, \"powerful\": 6, \n",
    "    \"heavy\": 4, \"strong\": 5, \"intense\": 6, \"vibrant\": 5, \"sturdy\": 4, \n",
    "    \"steady\": 4, \"flashing\": 6, \"refreshing\": 5, \"blinding\": 6, \"brightened\": 5, \n",
    "    \"eco-friendly\": 3, \"electric\": 5, \"brilliant\": 5, \"dynamic\": 5, \"luminous\": 6, \n",
    "    \"sparkling\": 6\n",
    "}\n",
    "verbs = {\n",
    "    \"turn\": 3, \"make\": 4, \"activate\": 5, \"stop\": 2, \"increase\": 6, \n",
    "    \"decrease\": 3, \"start\": 4, \"control\": 7, \"adjust\": 5, \"boost\": 6, \n",
    "    \"power\": 7, \"optimize\": 6, \"trigger\": 6, \"enhance\": 6, \n",
    "    \"improve\": 5, \"intensify\": 6, \"brighten\": 5, \"elevate\": 6, \"supercharge\": 7, \n",
    "    \"recharge\": 5, \"start-up\": 6, \"reboot\": 5, \"adjust intensity\": 6, \n",
    "    \"speed up\": 6, \"increase speed\": 7, \"boost power\": 7, \"light up\": 5, \n",
    "    \"flicker\": 3, \"disable\": 2, \"activate power\": 6,\n",
    "}\n",
    "\n",
    "\n",
    "\n",
    "nouns = [\"fan\", \"light\", \"fans\", \"lights\"]\n",
    "\n",
    "action_labels = {\n",
    "    0: \"lights_on\", \n",
    "    1: \"lights_off\",\n",
    "    2: \"fan_on\",\n",
    "    3: \"fan_off\" \n",
    "}\n",
    "\n",
    "adjective_noun_verb = list(itertools.product(adjectives.keys(), nouns, verbs.keys()))\n",
    "\n",
    "def calculate_weight(adjective, verb):\n",
    "    adj_weight = adjectives[adjective]\n",
    "    verb_weight = verbs[verb]\n",
    "    total_weight = adj_weight + verb_weight\n",
    "    return total_weight\n",
    "\n",
    "json_output = []\n",
    "threshold = int(input(\"Enter the threshold for classification (1-10): \"))\n",
    "for perm in adjective_noun_verb:\n",
    "    adjective, noun, verb = perm\n",
    "    total_weight = calculate_weight(adjective, verb)\n",
    "    \n",
    "    if noun == \"light\" or noun == \"lights\":\n",
    "        if total_weight > threshold:\n",
    "            label = action_labels[0]\n",
    "        else:\n",
    "            label = action_labels[1]\n",
    "    elif noun == \"fan\" or noun == \"fans\":\n",
    "        if total_weight > threshold:\n",
    "            label = action_labels[2]\n",
    "        else:\n",
    "            label = action_labels[3]\n",
    "    \n",
    "    json_output.append({\n",
    "        \"text\": f\"{adjective} {noun} {verb}\",\n",
    "        \"label\": label\n",
    "    })\n",
    "\n",
    "with open(\"dataset_ver1.json\", \"w\") as f:\n",
    "    json.dump(json_output, f, indent=2)\n",
    "    print(\"Synthetic dataset saved to dataset_ver1.json\")"
   ]
  }
 ],
 "metadata": {
  "kernelspec": {
   "display_name": "Python 3",
   "language": "python",
   "name": "python3"
  },
  "language_info": {
   "codemirror_mode": {
    "name": "ipython",
    "version": 3
   },
   "file_extension": ".py",
   "mimetype": "text/x-python",
   "name": "python",
   "nbconvert_exporter": "python",
   "pygments_lexer": "ipython3",
   "version": "3.11.2"
  }
 },
 "nbformat": 4,
 "nbformat_minor": 5
}
