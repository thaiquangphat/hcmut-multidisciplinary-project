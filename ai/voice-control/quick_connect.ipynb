{
 "cells": [
  {
   "cell_type": "markdown",
   "metadata": {},
   "source": [
    "# Connecting"
   ]
  },
  {
   "cell_type": "code",
   "execution_count": 1,
   "metadata": {},
   "outputs": [],
   "source": [
    "import sys\n",
    "from Adafruit_IO import MQTTClient\n",
    "import random\n",
    "import time\n",
    "import serial.tools.list_ports"
   ]
  },
  {
   "cell_type": "code",
   "execution_count": 2,
   "metadata": {},
   "outputs": [
    {
     "name": "stdout",
     "output_type": "stream",
     "text": [
      "Requirement already satisfied: pyserial in c:\\users\\quang\\appdata\\local\\programs\\python\\python311\\lib\\site-packages (3.5)\n",
      "Note: you may need to restart the kernel to use updated packages.\n"
     ]
    },
    {
     "name": "stderr",
     "output_type": "stream",
     "text": [
      "\n",
      "[notice] A new release of pip is available: 24.3.1 -> 25.0.1\n",
      "[notice] To update, run: python.exe -m pip install --upgrade pip\n"
     ]
    }
   ],
   "source": [
    "%pip install pyserial"
   ]
  },
  {
   "cell_type": "code",
   "execution_count": 25,
   "metadata": {},
   "outputs": [],
   "source": [
    "AIO_FEED_ID = 'humidity'\n",
    "AIO_USERNAME = 'Phat_Adafruit'\n",
    "AIO_KEY = 'aio_FpCw83QuD1wktNbwmwyGBBajuNEU'"
   ]
  },
  {
   "cell_type": "markdown",
   "metadata": {},
   "source": [
    "## Connecting to module"
   ]
  },
  {
   "cell_type": "code",
   "execution_count": 21,
   "metadata": {},
   "outputs": [],
   "source": [
    "def connected(client): \n",
    "    client.subscribe(AIO_FEED_ID)\n",
    "    print('Kết nối thành công.')\n",
    "\n",
    "def subscribe(client, userdata, mid, granted_qos):\n",
    "    print('Subscribe thành công.')\n",
    "\n",
    "def disconnected(client):\n",
    "    sys.exit(1)\n",
    "    print('Ngắt kết nối thành công.')\n",
    "\n",
    "def message(client, feed_id, payload):\n",
    "    print('Nhận dữ liệu ' + payload)"
   ]
  },
  {
   "cell_type": "code",
   "execution_count": 26,
   "metadata": {},
   "outputs": [
    {
     "name": "stdout",
     "output_type": "stream",
     "text": [
      "Connected to Adafruit IO!\n",
      "Kết nối thành công.\n",
      "Subscribe thành công.\n",
      "Nhận dữ liệu 70.6\n",
      "Nhận dữ liệu 71.30001\n",
      "Nhận dữ liệu 55.2\n"
     ]
    },
    {
     "ename": "KeyboardInterrupt",
     "evalue": "",
     "output_type": "error",
     "traceback": [
      "\u001b[1;31m---------------------------------------------------------------------------\u001b[0m",
      "\u001b[1;31mKeyboardInterrupt\u001b[0m                         Traceback (most recent call last)",
      "Cell \u001b[1;32mIn[26], line 15\u001b[0m\n\u001b[0;32m     12\u001b[0m     value \u001b[38;5;241m=\u001b[39m random\u001b[38;5;241m.\u001b[39mrandint(\u001b[38;5;241m0\u001b[39m, \u001b[38;5;241m100\u001b[39m)\n\u001b[0;32m     13\u001b[0m     \u001b[38;5;66;03m# print(\"Cập nhật:\", value)\u001b[39;00m\n\u001b[0;32m     14\u001b[0m     \u001b[38;5;66;03m# client.publish(\"humidity\", value)\u001b[39;00m\n\u001b[1;32m---> 15\u001b[0m     \u001b[43mtime\u001b[49m\u001b[38;5;241;43m.\u001b[39;49m\u001b[43msleep\u001b[49m\u001b[43m(\u001b[49m\u001b[38;5;241;43m5\u001b[39;49m\u001b[43m)\u001b[49m\n\u001b[0;32m     16\u001b[0m     \u001b[38;5;28;01mpass\u001b[39;00m\n\u001b[0;32m     18\u001b[0m fpemg\n",
      "\u001b[1;31mKeyboardInterrupt\u001b[0m: "
     ]
    },
    {
     "name": "stdout",
     "output_type": "stream",
     "text": [
      "Nhận dữ liệu 54.1\n",
      "Nhận dữ liệu 53.2\n",
      "Nhận dữ liệu 53.5\n",
      "Nhận dữ liệu 54.1\n",
      "Nhận dữ liệu 51.8\n",
      "Nhận dữ liệu 51.0\n",
      "Nhận dữ liệu 50.4\n"
     ]
    }
   ],
   "source": [
    "# ser = serial.Serial( port=getPort(), baudrate=115200)\n",
    "\n",
    "client = MQTTClient(AIO_USERNAME , AIO_KEY)\n",
    "client.on_connect = connected\n",
    "client.on_disconnect = disconnected\n",
    "client.on_message = message\n",
    "client.on_subscribe = subscribe\n",
    "client.connect()\n",
    "client.loop_background()\n",
    "\n",
    "while True:\n",
    "    value = random.randint(0, 100)\n",
    "    print(\"Cập nhật:\", value)\n",
    "    client.publish(\"humidity\", value)\n",
    "    time.sleep(5)\n",
    "    pass\n",
    "\n",
    "fpemg"
   ]
  }
 ],
 "metadata": {
  "kernelspec": {
   "display_name": "Python 3",
   "language": "python",
   "name": "python3"
  },
  "language_info": {
   "codemirror_mode": {
    "name": "ipython",
    "version": 3
   },
   "file_extension": ".py",
   "mimetype": "text/x-python",
   "name": "python",
   "nbconvert_exporter": "python",
   "pygments_lexer": "ipython3",
   "version": "3.11.2"
  }
 },
 "nbformat": 4,
 "nbformat_minor": 2
}
